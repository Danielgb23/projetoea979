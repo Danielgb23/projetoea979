{
 "cells": [
  {
   "cell_type": "markdown",
   "metadata": {},
   "source": [
    "# Calculos da posição do avião\n",
    "## pontos auxiliares\n",
    "Eu considerei o ponto de origem da imagem abaixo a esquerda. "
   ]
  },
  {
   "cell_type": "code",
   "execution_count": 1,
   "metadata": {
    "scrolled": true
   },
   "outputs": [
    {
     "data": {
      "image/png": "[encoded data removed]",
      "text/plain": [
       "<Figure size 432x288 with 1 Axes>"
      ]
     },
     "metadata": {
      "needs_background": "light"
     },
     "output_type": "display_data"
    }
   ],
   "source": [
    "import numpy as np\n",
    "import matplotlib.pyplot as plt\n",
    "\n",
    "#inserir os pontos no sentido horario\n",
    "pontosImagem = np.array([[140,370],#P1*\n",
    "               [400,200], #P2*\n",
    "               [200,25],  #P3*\n",
    "               [25,250]], dtype=float)  #P4*\n",
    "\n",
    "plt.scatter(*zip(*pontosImagem))\n",
    "plt.show()"
   ]
  },
  {
   "cell_type": "code",
   "execution_count": 2,
   "metadata": {},
   "outputs": [
    {
     "name": "stdout",
     "output_type": "stream",
     "text": [
      "[164.09495549 231.45400593]\n"
     ]
    },
    {
     "data": {
      "image/png": "[encoded data removed]",
      "text/plain": [
       "<Figure size 432x288 with 1 Axes>"
      ]
     },
     "metadata": {
      "needs_background": "light"
     },
     "output_type": "display_data"
    }
   ],
   "source": [
    "#ponto M*\n",
    "#reta P1*P3*\n",
    "a=(pontosImagem[0][1]-pontosImagem[2][1])/(pontosImagem[0][0]-pontosImagem[2][0])\n",
    "b=pontosImagem[0][1]-a*pontosImagem[0][0]\n",
    "\n",
    "x = np.linspace(pontosImagem[0][0],pontosImagem[2][0],100)\n",
    "y = a*x+b\n",
    "plt.plot(x, y, '-b')\n",
    "\n",
    "\n",
    "#reta P2*P4*\n",
    "\n",
    "c=(pontosImagem[3][1]-pontosImagem[1][1])/(pontosImagem[3][0]-pontosImagem[1][0])\n",
    "d=pontosImagem[1][1]-c*pontosImagem[1][0]\n",
    "\n",
    "x = np.linspace(pontosImagem[1][0],pontosImagem[3][0],100)\n",
    "y = c*x+d\n",
    "plt.plot(x, y, '-r')\n",
    "\n",
    "#encontra M no cruzamento das retas\n",
    "A=np.array([[-a,1],[-c,1]])\n",
    "B=np.array([b,d])\n",
    "Ma= np.linalg.inv(A).dot(B)\n",
    "print (Ma)\n",
    "\n",
    "plt.scatter(*zip(*pontosImagem))\n",
    "plt.scatter(*zip(Ma))\n",
    "plt.show()"
   ]
  },
  {
   "cell_type": "code",
   "execution_count": 3,
   "metadata": {},
   "outputs": [
    {
     "name": "stdout",
     "output_type": "stream",
     "text": [
      "[-283.91304348  647.17391304]\n"
     ]
    },
    {
     "ename": "NameError",
     "evalue": "name 'V1' is not defined",
     "output_type": "error",
     "traceback": [
      "\u001b[0;31m---------------------------------------------------------------------------\u001b[0m",
      "\u001b[0;31mNameError\u001b[0m                                 Traceback (most recent call last)",
      "\u001b[0;32m<ipython-input-3-4b18052c722c>\u001b[0m in \u001b[0;36m<module>\u001b[0;34m\u001b[0m\n\u001b[1;32m     18\u001b[0m \u001b[0;34m\u001b[0m\u001b[0m\n\u001b[1;32m     19\u001b[0m \u001b[0;31m#plota reta P1*P2*\u001b[0m\u001b[0;34m\u001b[0m\u001b[0;34m\u001b[0m\u001b[0;34m\u001b[0m\u001b[0m\n\u001b[0;32m---> 20\u001b[0;31m \u001b[0mx\u001b[0m \u001b[0;34m=\u001b[0m \u001b[0mnp\u001b[0m\u001b[0;34m.\u001b[0m\u001b[0mlinspace\u001b[0m\u001b[0;34m(\u001b[0m\u001b[0mV1\u001b[0m\u001b[0;34m[\u001b[0m\u001b[0;36m0\u001b[0m\u001b[0;34m]\u001b[0m\u001b[0;34m,\u001b[0m\u001b[0mpontosImagem\u001b[0m\u001b[0;34m[\u001b[0m\u001b[0;36m1\u001b[0m\u001b[0;34m]\u001b[0m\u001b[0;34m[\u001b[0m\u001b[0;36m0\u001b[0m\u001b[0;34m]\u001b[0m\u001b[0;34m,\u001b[0m\u001b[0;36m100\u001b[0m\u001b[0;34m)\u001b[0m\u001b[0;34m\u001b[0m\u001b[0;34m\u001b[0m\u001b[0m\n\u001b[0m\u001b[1;32m     21\u001b[0m \u001b[0my\u001b[0m \u001b[0;34m=\u001b[0m \u001b[0ma\u001b[0m\u001b[0;34m*\u001b[0m\u001b[0mx\u001b[0m\u001b[0;34m+\u001b[0m\u001b[0mb\u001b[0m\u001b[0;34m\u001b[0m\u001b[0;34m\u001b[0m\u001b[0m\n\u001b[1;32m     22\u001b[0m \u001b[0mplt\u001b[0m\u001b[0;34m.\u001b[0m\u001b[0mplot\u001b[0m\u001b[0;34m(\u001b[0m\u001b[0mx\u001b[0m\u001b[0;34m,\u001b[0m \u001b[0my\u001b[0m\u001b[0;34m,\u001b[0m \u001b[0;34m'-b'\u001b[0m\u001b[0;34m)\u001b[0m\u001b[0;34m\u001b[0m\u001b[0;34m\u001b[0m\u001b[0m\n",
      "\u001b[0;31mNameError\u001b[0m: name 'V1' is not defined"
     ]
    }
   ],
   "source": [
    "#ponto V1*\n",
    "#reta P1*P2*\n",
    "a=(pontosImagem[0][1]-pontosImagem[1][1])/(pontosImagem[0][0]-pontosImagem[1][0])\n",
    "b=pontosImagem[0][1]-a*pontosImagem[0][0]\n",
    "\n",
    "\n",
    "\n",
    "#reta P3*P4*\n",
    "c=(pontosImagem[2][1]-pontosImagem[3][1])/(pontosImagem[2][0]-pontosImagem[3][0])\n",
    "d=pontosImagem[2][1]-c*pontosImagem[2][0]\n",
    "\n",
    "\n",
    "#encontra M no cruzamento das retas\n",
    "A=np.array([[-a,1],[-c,1]])\n",
    "B=np.array([b,d])\n",
    "V1a= np.linalg.inv(A).dot(B)\n",
    "print (V1a)\n",
    "\n",
    "#plota reta P1*P2*\n",
    "x = np.linspace(V1[0],pontosImagem[1][0],100)\n",
    "y = a*x+b\n",
    "plt.plot(x, y, '-b')\n",
    "\n",
    "#plota reta P3*P4*\n",
    "x = np.linspace(V1[0],pontosImagem[2][0],100)\n",
    "y = c*x+d\n",
    "plt.plot(x, y, '-r')\n",
    "\n",
    "\n",
    "plt.scatter(*zip(*pontosImagem))\n",
    "plt.scatter(*zip(V1a))\n",
    "plt.show()"
   ]
  },
  {
   "cell_type": "code",
   "execution_count": 4,
   "metadata": {},
   "outputs": [
    {
     "name": "stdout",
     "output_type": "stream",
     "text": [
      "[-2219.35483871 -2091.93548387]\n"
     ]
    },
    {
     "ename": "NameError",
     "evalue": "name 'V2' is not defined",
     "output_type": "error",
     "traceback": [
      "\u001b[0;31m---------------------------------------------------------------------------\u001b[0m",
      "\u001b[0;31mNameError\u001b[0m                                 Traceback (most recent call last)",
      "\u001b[0;32m<ipython-input-4-af19ab84b4df>\u001b[0m in \u001b[0;36m<module>\u001b[0;34m\u001b[0m\n\u001b[1;32m     18\u001b[0m \u001b[0;34m\u001b[0m\u001b[0m\n\u001b[1;32m     19\u001b[0m \u001b[0;31m#plota reta P1*P4*\u001b[0m\u001b[0;34m\u001b[0m\u001b[0;34m\u001b[0m\u001b[0;34m\u001b[0m\u001b[0m\n\u001b[0;32m---> 20\u001b[0;31m \u001b[0mx\u001b[0m \u001b[0;34m=\u001b[0m \u001b[0mnp\u001b[0m\u001b[0;34m.\u001b[0m\u001b[0mlinspace\u001b[0m\u001b[0;34m(\u001b[0m\u001b[0mV2\u001b[0m\u001b[0;34m[\u001b[0m\u001b[0;36m0\u001b[0m\u001b[0;34m]\u001b[0m\u001b[0;34m,\u001b[0m\u001b[0mpontosImagem\u001b[0m\u001b[0;34m[\u001b[0m\u001b[0;36m0\u001b[0m\u001b[0;34m]\u001b[0m\u001b[0;34m[\u001b[0m\u001b[0;36m0\u001b[0m\u001b[0;34m]\u001b[0m\u001b[0;34m,\u001b[0m\u001b[0;36m100\u001b[0m\u001b[0;34m)\u001b[0m\u001b[0;34m\u001b[0m\u001b[0;34m\u001b[0m\u001b[0m\n\u001b[0m\u001b[1;32m     21\u001b[0m \u001b[0my\u001b[0m \u001b[0;34m=\u001b[0m \u001b[0ma\u001b[0m\u001b[0;34m*\u001b[0m\u001b[0mx\u001b[0m\u001b[0;34m+\u001b[0m\u001b[0mb\u001b[0m\u001b[0;34m\u001b[0m\u001b[0;34m\u001b[0m\u001b[0m\n\u001b[1;32m     22\u001b[0m \u001b[0mplt\u001b[0m\u001b[0;34m.\u001b[0m\u001b[0mplot\u001b[0m\u001b[0;34m(\u001b[0m\u001b[0mx\u001b[0m\u001b[0;34m,\u001b[0m \u001b[0my\u001b[0m\u001b[0;34m,\u001b[0m \u001b[0;34m'-b'\u001b[0m\u001b[0;34m)\u001b[0m\u001b[0;34m\u001b[0m\u001b[0;34m\u001b[0m\u001b[0m\n",
      "\u001b[0;31mNameError\u001b[0m: name 'V2' is not defined"
     ]
    }
   ],
   "source": [
    "#ponto V2*\n",
    "#reta P1*P4*\n",
    "a=(pontosImagem[0][1]-pontosImagem[3][1])/(pontosImagem[0][0]-pontosImagem[3][0])\n",
    "b=pontosImagem[0][1]-a*pontosImagem[0][0]\n",
    "\n",
    "\n",
    "\n",
    "#reta P2*P3*\n",
    "c=(pontosImagem[1][1]-pontosImagem[2][1])/(pontosImagem[1][0]-pontosImagem[2][0])\n",
    "d=pontosImagem[2][1]-c*pontosImagem[2][0]\n",
    "\n",
    "\n",
    "#encontra M no cruzamento das retas\n",
    "A=np.array([[-a,1],[-c,1]])\n",
    "B=np.array([b,d])\n",
    "V2a= np.linalg.inv(A).dot(B)\n",
    "print (V2a)\n",
    "\n",
    "#plota reta P1*P4*\n",
    "x = np.linspace(V2[0],pontosImagem[0][0],100)\n",
    "y = a*x+b\n",
    "plt.plot(x, y, '-b')\n",
    "\n",
    "#plota reta P2*P3*\n",
    "x = np.linspace(V2[0],pontosImagem[1][0],100)\n",
    "y = c*x+d\n",
    "plt.plot(x, y, '-r')\n",
    "\n",
    "\n",
    "plt.scatter(*zip(*pontosImagem))\n",
    "plt.scatter(*zip(V2a))\n",
    "plt.show()"
   ]
  },
  {
   "cell_type": "code",
   "execution_count": 5,
   "metadata": {
    "scrolled": false
   },
   "outputs": [
    {
     "name": "stdout",
     "output_type": "stream",
     "text": [
      "[ 81.06365834 308.5012087 ]\n",
      "[296.03072983 109.0268886 ]\n",
      "[239.48979592 304.94897959]\n",
      "[ 93.18618042 162.33205374]\n"
     ]
    },
    {
     "data": {
      "image/png": "[encoded data removed]",
      "text/plain": [
       "<Figure size 432x288 with 1 Axes>"
      ]
     },
     "metadata": {
      "needs_background": "light"
     },
     "output_type": "display_data"
    }
   ],
   "source": [
    "#Pontos P14, P23...\n",
    "\n",
    "#reta V1 M\n",
    "a=(V1a[1]-Ma[1])/(V1a[0]-Ma[0])\n",
    "b=Ma[1]-a*Ma[0]\n",
    "\n",
    "\n",
    "#reta P1*P4*\n",
    "c=(pontosImagem[0][1]-pontosImagem[3][1])/(pontosImagem[0][0]-pontosImagem[3][0])\n",
    "d=pontosImagem[0][1]-c*pontosImagem[0][0]\n",
    "\n",
    "#plota reta P1*P4*\n",
    "x = np.linspace(pontosImagem[3][0],pontosImagem[0][0],100)\n",
    "y = c*x+d\n",
    "plt.plot(x, y, '-b')\n",
    "\n",
    "#encontra P14 no cruzamento das retas\n",
    "A=np.array([[-a,1],[-c,1]])\n",
    "B=np.array([b,d])\n",
    "P14a= np.linalg.inv(A).dot(B)\n",
    "print (P14a)\n",
    "\n",
    "\n",
    "#reta P2*P3*\n",
    "c=(pontosImagem[1][1]-pontosImagem[2][1])/(pontosImagem[1][0]-pontosImagem[2][0])\n",
    "d=pontosImagem[2][1]-c*pontosImagem[2][0]\n",
    "\n",
    "#plota reta P2*P3*\n",
    "x = np.linspace(pontosImagem[1][0], pontosImagem[2][0],100)\n",
    "y = c*x+d\n",
    "plt.plot(x, y, '-b')\n",
    "\n",
    "#encontra P14 no cruzamento das retas\n",
    "A=np.array([[-a,1],[-c,1]])\n",
    "B=np.array([b,d])\n",
    "P23a= np.linalg.inv(A).dot(B)\n",
    "print (P23a)\n",
    "\n",
    "\n",
    "#reta V2 M\n",
    "a=(V2a[1]-Ma[1])/(V2a[0]-Ma[0])\n",
    "b=Ma[1]-a*Ma[0]\n",
    "\n",
    "\n",
    "#reta P1*P2*\n",
    "c=(pontosImagem[0][1]-pontosImagem[1][1])/(pontosImagem[0][0]-pontosImagem[1][0])\n",
    "d=pontosImagem[0][1]-c*pontosImagem[0][0]\n",
    "\n",
    "\n",
    "#plota reta P1*P2*\n",
    "x = np.linspace(pontosImagem[0][0],pontosImagem[1][0],100)\n",
    "y = c*x+d\n",
    "plt.plot(x, y, '-b')\n",
    "\n",
    "#encontra P14 no cruzamento das retas\n",
    "A=np.array([[-a,1],[-c,1]])\n",
    "B=np.array([b,d])\n",
    "P12a= np.linalg.inv(A).dot(B)\n",
    "print (P12a)\n",
    "\n",
    "\n",
    "#reta P3*P4*\n",
    "c=(pontosImagem[2][1]-pontosImagem[3][1])/(pontosImagem[2][0]-pontosImagem[3][0])\n",
    "d=pontosImagem[2][1]-c*pontosImagem[2][0]\n",
    "\n",
    "#plota reta P3*P4*\n",
    "x = np.linspace(pontosImagem[2][0],pontosImagem[3][0],100)\n",
    "y = c*x+d\n",
    "plt.plot(x, y, '-b')\n",
    "\n",
    "#encontra P14 no cruzamento das retas\n",
    "A=np.array([[-a,1],[-c,1]])\n",
    "B=np.array([b,d])\n",
    "P34a= np.linalg.inv(A).dot(B)\n",
    "print (P34a)\n",
    "\n",
    "\n",
    "\n",
    "\n",
    "\n",
    "\n",
    "plt.scatter(*zip(*pontosImagem))\n",
    "#plt.scatter(*zip(V2))\n",
    "#plt.scatter(*zip(V1))\n",
    "plt.scatter(*zip(Ma))\n",
    "plt.scatter(*zip(P14a))\n",
    "plt.scatter(*zip(P23a))\n",
    "plt.scatter(*zip(P12a))\n",
    "plt.scatter(*zip(P34a))\n",
    "plt.show()"
   ]
  },
  {
   "cell_type": "code",
   "execution_count": 6,
   "metadata": {
    "scrolled": true
   },
   "outputs": [
    {
     "ename": "SyntaxError",
     "evalue": "Missing parentheses in call to 'print'. Did you mean print(d)? (<ipython-input-6-cb5c57dab30c>, line 3)",
     "output_type": "error",
     "traceback": [
      "\u001b[0;36m  File \u001b[0;32m\"<ipython-input-6-cb5c57dab30c>\"\u001b[0;36m, line \u001b[0;32m3\u001b[0m\n\u001b[0;31m    print d\u001b[0m\n\u001b[0m          ^\u001b[0m\n\u001b[0;31mSyntaxError\u001b[0m\u001b[0;31m:\u001b[0m Missing parentheses in call to 'print'. Did you mean print(d)?\n"
     ]
    }
   ],
   "source": [
    "#d arbitrario(escolhido aqui como fracao de um dos lados)\n",
    "d=0.4*(((pontosImagem[0][1]-pontosImagem[1][1])**2)+(pontosImagem[0][0]-pontosImagem[1][0])**2)**.5\n",
    "print d\n",
    "\n",
    "#reta P12 M\n",
    "a=(P12a[1]-Ma[1])/(P12a[0]-Ma[0])\n",
    "b=Ma[1]-a*Ma[0]\n",
    "\n",
    "#calcula a posicao do ponto P12\n",
    "#cosseno da reta P12M cos=sqrt(1/(1+tg2))\n",
    "cs=(1/(1+a**2))**0.5\n",
    "#x de P12: distancia no eixo x mais x de M*. Y calculado pela reta \n",
    "P12=np.array([Ma[0]+d/cs,a*(Ma[0]+d/cs)+b])\n",
    "\n",
    "#plota reta P3*P4*\n",
    "x = np.linspace(P12[0],Ma[0],100)\n",
    "y = a*x+b\n",
    "plt.plot(x, y, '-b')\n",
    "\n",
    "plt.scatter(*zip(*pontosImagem))\n",
    "plt.scatter(*zip(Ma))\n",
    "plt.scatter(*zip(P12))\n",
    "plt.scatter(*zip(P12a))\n",
    "plt.show()"
   ]
  },
  {
   "cell_type": "code",
   "execution_count": 7,
   "metadata": {},
   "outputs": [
    {
     "ename": "SyntaxError",
     "evalue": "invalid syntax (<ipython-input-7-dac27f60a6a5>, line 17)",
     "output_type": "error",
     "traceback": [
      "\u001b[0;36m  File \u001b[0;32m\"<ipython-input-7-dac27f60a6a5>\"\u001b[0;36m, line \u001b[0;32m17\u001b[0m\n\u001b[0;31m    print math.degrees(alfa)\u001b[0m\n\u001b[0m             ^\u001b[0m\n\u001b[0;31mSyntaxError\u001b[0m\u001b[0;31m:\u001b[0m invalid syntax\n"
     ]
    }
   ],
   "source": [
    "import math\n",
    "#para encontrar os angulos alfa e beta\n",
    "#alfa\n",
    "v1=pontosImagem[1]-Ma #vetor de M* a P2*\n",
    "v2=P12a-Ma  #vetor de M* a P12*\n",
    "#angulo entre eles\n",
    "alfa=math.acos(v1.dot(v2)/np.linalg.norm(v1)/np.linalg.norm(v2))\n",
    "\n",
    "#beta\n",
    "v1=pontosImagem[0]-Ma #vetor de M* a P1*\n",
    "#angulo entre eles\n",
    "beta=math.acos(v1.dot(v2)/np.linalg.norm(v1)/np.linalg.norm(v2))\n",
    "\n",
    "#calcula omega a partir da formula no artigo\n",
    "omega=math.atan2(2,(-math.cos(alfa)*math.sin(alfa)+math.cos(beta)*math.sin(beta)))\n",
    "\n",
    "print math.degrees(alfa)\n",
    "print math.degrees(beta)\n",
    "print math.degrees(omega)"
   ]
  },
  {
   "cell_type": "code",
   "execution_count": 8,
   "metadata": {},
   "outputs": [
    {
     "ename": "NameError",
     "evalue": "name 'omega' is not defined",
     "output_type": "error",
     "traceback": [
      "\u001b[0;31m---------------------------------------------------------------------------\u001b[0m",
      "\u001b[0;31mNameError\u001b[0m                                 Traceback (most recent call last)",
      "\u001b[0;32m<ipython-input-8-ca0407aef5b8>\u001b[0m in \u001b[0;36m<module>\u001b[0;34m\u001b[0m\n\u001b[1;32m      2\u001b[0m \u001b[0;34m\u001b[0m\u001b[0m\n\u001b[1;32m      3\u001b[0m \u001b[0;31m#matriz de rotacao\u001b[0m\u001b[0;34m\u001b[0m\u001b[0;34m\u001b[0m\u001b[0;34m\u001b[0m\u001b[0m\n\u001b[0;32m----> 4\u001b[0;31m \u001b[0mc\u001b[0m\u001b[0;34m,\u001b[0m \u001b[0ms\u001b[0m \u001b[0;34m=\u001b[0m \u001b[0mnp\u001b[0m\u001b[0;34m.\u001b[0m\u001b[0mcos\u001b[0m\u001b[0;34m(\u001b[0m\u001b[0momega\u001b[0m\u001b[0;34m)\u001b[0m\u001b[0;34m,\u001b[0m \u001b[0mnp\u001b[0m\u001b[0;34m.\u001b[0m\u001b[0msin\u001b[0m\u001b[0;34m(\u001b[0m\u001b[0momega\u001b[0m\u001b[0;34m)\u001b[0m\u001b[0;34m\u001b[0m\u001b[0;34m\u001b[0m\u001b[0m\n\u001b[0m\u001b[1;32m      5\u001b[0m \u001b[0mR\u001b[0m \u001b[0;34m=\u001b[0m \u001b[0mnp\u001b[0m\u001b[0;34m.\u001b[0m\u001b[0marray\u001b[0m\u001b[0;34m(\u001b[0m\u001b[0;34m(\u001b[0m\u001b[0;34m(\u001b[0m\u001b[0mc\u001b[0m\u001b[0;34m,\u001b[0m \u001b[0;34m-\u001b[0m\u001b[0ms\u001b[0m\u001b[0;34m)\u001b[0m\u001b[0;34m,\u001b[0m \u001b[0;34m(\u001b[0m\u001b[0ms\u001b[0m\u001b[0;34m,\u001b[0m \u001b[0mc\u001b[0m\u001b[0;34m)\u001b[0m\u001b[0;34m)\u001b[0m\u001b[0;34m)\u001b[0m\u001b[0;34m\u001b[0m\u001b[0;34m\u001b[0m\u001b[0m\n\u001b[1;32m      6\u001b[0m \u001b[0;34m\u001b[0m\u001b[0m\n",
      "\u001b[0;31mNameError\u001b[0m: name 'omega' is not defined"
     ]
    }
   ],
   "source": [
    "v=P12a-Ma  #vetor de M* a P12*\n",
    "\n",
    "#matriz de rotacao\n",
    "c, s = np.cos(omega), np.sin(omega)\n",
    "R = np.array(((c, -s), (s, c)))\n",
    "\n",
    "#vetor rotacionado omega graus\n",
    "v=np.matmul(R, v)\n",
    "\n",
    "#calculo dos coeficientes da reta que parametrica com v de guia e P12 de origem\n",
    "a=v[1]/v[0]\n",
    "b=-v[1]*P12[0]/v[0]+P12[1]\n",
    "\n",
    "#reta P1* M\n",
    "c=(pontosImagem[0][1]-Ma[1])/(pontosImagem[0][0]-Ma[0])\n",
    "d=Ma[1]-c*Ma[0]\n",
    "\n",
    "\n",
    "#encontra P1 no cruzamento das retas\n",
    "A=np.array([[-a,1],[-c,1]])\n",
    "B=np.array([b,d])\n",
    "P1= np.linalg.inv(A).dot(B)\n",
    "\n",
    "\n",
    "#reta P2* M\n",
    "e=(pontosImagem[1][1]-Ma[1])/(pontosImagem[1][0]-Ma[0])\n",
    "f=Ma[1]-e*Ma[0]\n",
    "\n",
    "\n",
    "#encontra P2 no cruzamento das retas\n",
    "A=np.array([[-a,1],[-e,1]])\n",
    "B=np.array([b,f])\n",
    "P2= np.linalg.inv(A).dot(B)\n",
    "\n",
    "\n",
    "\n",
    "#plota reta P2 M\n",
    "x = np.linspace(Ma[0],P2[0],100)\n",
    "y = e*x+f\n",
    "plt.plot(x, y, '-b')\n",
    "\n",
    "\n",
    "#plota reta P1 M\n",
    "x = np.linspace(P1[0],Ma[0],100)\n",
    "y = c*x+d\n",
    "plt.plot(x, y, '-b')\n",
    "\n",
    "#plota reta P1 P2\n",
    "x = np.linspace(P1[0],P2[0],100)\n",
    "y = a*x+b\n",
    "plt.plot(x, y, '-r')\n",
    "\n",
    "\n",
    "\n",
    "plt.scatter(*zip(*pontosImagem))\n",
    "plt.scatter(*zip(Ma))\n",
    "plt.scatter(*zip(P12))\n",
    "plt.scatter(*zip(P1))\n",
    "plt.scatter(*zip(P2))\n",
    "plt.show()"
   ]
  },
  {
   "cell_type": "code",
   "execution_count": 9,
   "metadata": {},
   "outputs": [
    {
     "ename": "SyntaxError",
     "evalue": "Missing parentheses in call to 'print'. Did you mean print(yP1)? (<ipython-input-9-5509756bcf88>, line 6)",
     "output_type": "error",
     "traceback": [
      "\u001b[0;36m  File \u001b[0;32m\"<ipython-input-9-5509756bcf88>\"\u001b[0;36m, line \u001b[0;32m6\u001b[0m\n\u001b[0;31m    print yP1\u001b[0m\n\u001b[0m            ^\u001b[0m\n\u001b[0;31mSyntaxError\u001b[0m\u001b[0;31m:\u001b[0m Missing parentheses in call to 'print'. Did you mean print(yP1)?\n"
     ]
    }
   ],
   "source": [
    "#5. Coordenadas Y dos pontos P1 e P2\n",
    "Vy=100\n",
    "Vx=75\n",
    "\n",
    "yP1=Vy+Vy/(Vx-pontosImagem[0][0])\n",
    "print yP1"
   ]
  },
  {
   "cell_type": "code",
   "execution_count": 10,
   "metadata": {},
   "outputs": [],
   "source": [
    "#6. "
   ]
  },
  {
   "cell_type": "code",
   "execution_count": null,
   "metadata": {},
   "outputs": [],
   "source": []
  },
  {
   "cell_type": "code",
   "execution_count": null,
   "metadata": {},
   "outputs": [],
   "source": []
  }
 ],
 "metadata": {
  "kernelspec": {
   "display_name": "Python 3",
   "language": "python",
   "name": "python3"
  },
  "language_info": {
   "codemirror_mode": {
    "name": "ipython",
    "version": 3
   },
   "file_extension": ".py",
   "mimetype": "text/x-python",
   "name": "python",
   "nbconvert_exporter": "python",
   "pygments_lexer": "ipython3",
   "version": "3.7.6"
  }
 },
 "nbformat": 4,
 "nbformat_minor": 2
}
