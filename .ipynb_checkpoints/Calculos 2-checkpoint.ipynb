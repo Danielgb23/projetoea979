{
 "cells": [
  {
   "cell_type": "markdown",
   "metadata": {},
   "source": [
    "Equação de https://apps.dtic.mil/dtic/tr/fulltext/u2/1027301.pdf para obter as coordenadas (X, Y) em 3D a partir das (x, y) em 2D com eixo Z normal a direção onde a câmera está olhando:\n",
    "\n",
    " Equação 1:\n",
    "$$ \\begin{bmatrix}\n",
    "X \\\\\n",
    "Y\n",
    "\\end{bmatrix}=\\frac{d}{f}  \\begin{bmatrix}\n",
    "x \\\\\n",
    "y\n",
    "\\end{bmatrix}$$ (1)\n",
    "\n",
    "Onde $f$ é a distância focal e d é a distância no eixo Z(normal ao plano da imagem)\n",
    "\n",
    "A distâcia no mundo real entre dois pontos  A e B é dada pela sua diferença de distância em cada coordenada X, Y e Z. A diferença em Z é $d_A -d_B$. Em X e Y usamos a equação 1\n",
    "$ \\begin{bmatrix}\n",
    "X \\\\\n",
    "Y\n",
    "\\end{bmatrix}_A - \\begin{bmatrix}\n",
    "X \\\\\n",
    "Y\n",
    "\\end{bmatrix}_B =\\frac{1}{f}\\begin{bmatrix}\n",
    "d_A x_A -d_B x_B \\\\\n",
    "d_A y_A -d_B y_B\n",
    "\\end{bmatrix}$\n",
    "\n",
    "Somando os quadrados de todas como já sabemos da distância real. Onde w, l, x e y são conhecidos e f e os 'd's são icognitas obtemos:\n",
    "$w^2 = (d_A -d_B)^2+ \\frac{1}{f^2}(d_A x_A -d_B x_B)^2 +\\frac{1}{f^2}(d_A y_A -d_B y_B)^2 $ (2)\n",
    "$l^2 = (d_C -d_B)^2 +\\frac{1}{f^2}(d_C x_C -d_B x_B)^2 +\\frac{1}{f^2}(d_C y_C -d_B y_B)^2 $ (3)\n",
    "\n",
    "Como a pista é um retângulo:\n",
    "\n",
    "$l^2 +w^2  = (d_C -d_A)^2+ \\frac{1}{f^2}(d_C x_C -d_A x_A)^2 +\\frac{1}{f^2}(d_C y_C -d_A y_A)^2 $ (4)\n",
    "\n",
    "\n",
    "simplificando (2):\n",
    "\n",
    "$w^2 = d_A^2-2d_A d_B +d_B^2+ \\frac{1}{f^2}(d_A^2 x_A^2 -2 d_A x_A d_B x_B+d_B^2 x_B^2)+ \\frac{1}{f^2}(d_A^2 y_A^2 -2 d_A y_A d_B y_B+d_B^2 y_B^2) =$\n",
    "\n",
    "$w^2= \\frac{(f^2+x_A^2+y_A^2)}{f^2}d_A^2+\\frac{(f^2+x_B^2+y_B^2)}{f^2}d_B^2 -2\\frac{(f^2 +x_A x_B+y_A y_B )}{f^2}d_A d_B$ (5)\n",
    "\n",
    "simplificando (3):\n",
    "\n",
    "$l^2 = \\frac{(f^2+x_C^2+y_C^2)}{f^2}d_C^2+\\frac{(f^2+x_B^2+y_B^2)}{f^2}d_B^2 -2\\frac{(f^2 +x_C x_B+y_C y_B )}{f^2}d_C d_B$ (6)\n",
    "\n",
    "\n",
    "simplificando (4):\n",
    "\n",
    "$l^2+w^2 = \\frac{(f^2+x_C^2+y_C^2)}{f^2}d_C^2+\\frac{(f^2+x_A^2+y_A^2)}{f^2}d_A^2 -2\\frac{(f^2 +x_C x_A+y_C y_A )}{f^2}d_A d_C$ (7)\n",
    "\n",
    "(5), (6) e (7) podem ser rescritas como:\n",
    "\n",
    "$ F([d_A, d_B, d_C])= \\begin{bmatrix}\n",
    "A d_A^2+B d_B^2-2 M d_A d_B-w^2\\\\\n",
    "Cd_C^2+B d_B^2 -2 E d_C d_B-l^2 \\\\\n",
    "C d_C^2+A d_A^2 -2 R d_A d_C-l^2-w^2\n",
    "\\end{bmatrix}$(8)\n",
    "\n",
    "E resolvidas com fsolve por métodos numéricos. Que acha o vetor de distâncias que melhor aproxima F(**d**) de um vetor com zeros."
   ]
  },
  {
   "cell_type": "code",
   "execution_count": 1,
   "metadata": {},
   "outputs": [
    {
     "ename": "FileNotFoundError",
     "evalue": "[Errno 2] No such file or directory: './exifex.jpg'",
     "output_type": "error",
     "traceback": [
      "\u001b[0;31m---------------------------------------------------------------------------\u001b[0m",
      "\u001b[0;31mFileNotFoundError\u001b[0m                         Traceback (most recent call last)",
      "\u001b[0;32m<ipython-input-1-24723759187a>\u001b[0m in \u001b[0;36m<module>\u001b[0;34m\u001b[0m\n\u001b[1;32m      1\u001b[0m \u001b[0;32mimport\u001b[0m \u001b[0mPIL\u001b[0m\u001b[0;34m.\u001b[0m\u001b[0mImage\u001b[0m\u001b[0;34m\u001b[0m\u001b[0;34m\u001b[0m\u001b[0m\n\u001b[0;32m----> 2\u001b[0;31m \u001b[0mimg\u001b[0m \u001b[0;34m=\u001b[0m \u001b[0mPIL\u001b[0m\u001b[0;34m.\u001b[0m\u001b[0mImage\u001b[0m\u001b[0;34m.\u001b[0m\u001b[0mopen\u001b[0m\u001b[0;34m(\u001b[0m\u001b[0;34m'./exifex.jpg'\u001b[0m\u001b[0;34m)\u001b[0m\u001b[0;34m\u001b[0m\u001b[0;34m\u001b[0m\u001b[0m\n\u001b[0m\u001b[1;32m      3\u001b[0m \u001b[0mexif_data\u001b[0m \u001b[0;34m=\u001b[0m \u001b[0mimg\u001b[0m\u001b[0;34m.\u001b[0m\u001b[0m_getexif\u001b[0m\u001b[0;34m(\u001b[0m\u001b[0;34m)\u001b[0m\u001b[0;34m\u001b[0m\u001b[0;34m\u001b[0m\u001b[0m\n\u001b[1;32m      4\u001b[0m \u001b[0;31m#imprime o campo da metadata exif que tem o comprimento da lente\u001b[0m\u001b[0;34m\u001b[0m\u001b[0;34m\u001b[0m\u001b[0;34m\u001b[0m\u001b[0m\n\u001b[1;32m      5\u001b[0m \u001b[0mprint\u001b[0m \u001b[0;34m(\u001b[0m\u001b[0mexif_data\u001b[0m\u001b[0;34m[\u001b[0m\u001b[0;36m37386\u001b[0m\u001b[0;34m]\u001b[0m\u001b[0;34m)\u001b[0m\u001b[0;34m\u001b[0m\u001b[0;34m\u001b[0m\u001b[0m\n",
      "\u001b[0;32m~/anaconda3/lib/python3.7/site-packages/PIL/Image.py\u001b[0m in \u001b[0;36mopen\u001b[0;34m(fp, mode)\u001b[0m\n\u001b[1;32m   2807\u001b[0m \u001b[0;34m\u001b[0m\u001b[0m\n\u001b[1;32m   2808\u001b[0m     \u001b[0;32mif\u001b[0m \u001b[0mfilename\u001b[0m\u001b[0;34m:\u001b[0m\u001b[0;34m\u001b[0m\u001b[0;34m\u001b[0m\u001b[0m\n\u001b[0;32m-> 2809\u001b[0;31m         \u001b[0mfp\u001b[0m \u001b[0;34m=\u001b[0m \u001b[0mbuiltins\u001b[0m\u001b[0;34m.\u001b[0m\u001b[0mopen\u001b[0m\u001b[0;34m(\u001b[0m\u001b[0mfilename\u001b[0m\u001b[0;34m,\u001b[0m \u001b[0;34m\"rb\"\u001b[0m\u001b[0;34m)\u001b[0m\u001b[0;34m\u001b[0m\u001b[0;34m\u001b[0m\u001b[0m\n\u001b[0m\u001b[1;32m   2810\u001b[0m         \u001b[0mexclusive_fp\u001b[0m \u001b[0;34m=\u001b[0m \u001b[0;32mTrue\u001b[0m\u001b[0;34m\u001b[0m\u001b[0;34m\u001b[0m\u001b[0m\n\u001b[1;32m   2811\u001b[0m \u001b[0;34m\u001b[0m\u001b[0m\n",
      "\u001b[0;31mFileNotFoundError\u001b[0m: [Errno 2] No such file or directory: './exifex.jpg'"
     ]
    }
   ],
   "source": [
    "import PIL.Image\n",
    "img = PIL.Image.open('./exifex.jpg')\n",
    "exif_data = img._getexif()\n",
    "#imprime o campo da metadata exif que tem o comprimento da lente\n",
    "print (exif_data[37386])"
   ]
  },
  {
   "cell_type": "code",
   "execution_count": 2,
   "metadata": {},
   "outputs": [],
   "source": [
    "#comprimento do foco\n",
    "fl=682\n",
    "\n",
    "#posicoes dos vertices da pista na imagem\n",
    "x_a=155\n",
    "x_b=156\n",
    "x_c=106\n",
    "x_d=106\n",
    "\n",
    "y_a=200\n",
    "y_b=100\n",
    "y_c=100\n",
    "y_d=200\n",
    "\n",
    "#altitude do aviao\n",
    "h=100\n",
    "\n",
    "#dimensoes da pista\n",
    "W=10\n",
    "L=100\n",
    "\n",
    "#calcula coeficientes numericos da equacao\n",
    "A=(fl**2+x_a**2+y_a**2)/fl**2\n",
    "B=(fl**2+x_b**2+y_b**2)/fl**2\n",
    "C=(fl**2+x_c**2+y_c**2)/fl**2\n",
    "M=(fl**2+x_a*x_b+y_a*y_b)/fl**2\n",
    "E=(fl**2++x_c*x_b+y_c*y_b)/fl**2\n",
    "R=(fl**2++x_a*x_c+y_a*y_c)/fl**2"
   ]
  },
  {
   "cell_type": "code",
   "execution_count": 3,
   "metadata": {},
   "outputs": [
    {
     "name": "stdout",
     "output_type": "stream",
     "text": [
      "[224.59058361 137.79144212 139.83479689]\n"
     ]
    }
   ],
   "source": [
    "#primeira tentativa com metodo numerico\n",
    "import numpy as np\n",
    "from scipy.optimize import fsolve\n",
    "\n",
    "#funcoes do sistema nao linear\n",
    "def funcao(distancias):\n",
    "    F=[0,0,0]\n",
    "    da=distancias[0]\n",
    "    db=distancias[1]\n",
    "    dc=distancias[2]\n",
    "    F[0]=A*da**2+B*db**2-2*M*da*db-L**2\n",
    "    F[1]=C*dc**2+B*db**2-2*E*dc*db-W**2\n",
    "    F[2]=A*da**2+C*dc**2-2*R*da*dc-W**2-L**2\n",
    "    return F\n",
    "\n",
    "#solver\n",
    "sol=fsolve(funcao,[100,100,100])\n",
    "print (sol)"
   ]
  },
  {
   "cell_type": "code",
   "execution_count": 210,
   "metadata": {},
   "outputs": [
    {
     "data": {
      "text/plain": [
       "array([224.59058361, 137.79144212, 472.28480551, 139.83479689])"
      ]
     },
     "execution_count": 210,
     "metadata": {},
     "output_type": "execute_result"
    }
   ],
   "source": [
    "#Calcula e adiciona ao vetor de solucoes a distancia ao vertice D para\n",
    "#melhorar a precisao\n",
    "D=(fl**2+x_d**2+y_d**2)/fl**2\n",
    "N=(fl**2+x_a*x_d+y_a*y_d)/fl**2\n",
    "roots=np.roots([D,-2*N*sol[0] , A*sol[0]-L**2])\n",
    "sol=np.insert(sol,-1,max(roots))\n",
    "sol"
   ]
  },
  {
   "cell_type": "code",
   "execution_count": 211,
   "metadata": {},
   "outputs": [
    {
     "data": {
      "text/plain": [
       "array([201.09930443,  94.7970544 , 461.57657817,  97.74339067])"
      ]
     },
     "execution_count": 211,
     "metadata": {},
     "output_type": "execute_result"
    }
   ],
   "source": [
    "#faz pitagoras com a altura do aviao e as distancias para encontrar as\n",
    "#distancias na horizontal\n",
    "plane=sol**2\n",
    "H=np.array([h,h,h,h])\n",
    "H=H**2\n",
    "plane=plane-H\n",
    "plane=plane**(1/2)\n",
    "plane"
   ]
  },
  {
   "cell_type": "markdown",
   "metadata": {},
   "source": [
    "Agora usando: https://www.alanzucconi.com/2017/03/13/positioning-and-trilateration/\n",
    "Faço a trilateralização usando as distâncias encontradas:"
   ]
  },
  {
   "cell_type": "code",
   "execution_count": 217,
   "metadata": {},
   "outputs": [
    {
     "data": {
      "text/plain": [
       "array([ 51.06461348, 257.39831403])"
      ]
     },
     "execution_count": 217,
     "metadata": {},
     "output_type": "execute_result"
    }
   ],
   "source": [
    "from scipy.optimize import minimize\n",
    "\n",
    "def great_circle_distance(x, location):\n",
    "    return  ((x[0]-location[0])**2+(x[1]-location[1])**2)**(1/2)\n",
    " \n",
    "\n",
    "# Mean Square Error\n",
    "# locations: [ (lat1, long1), ... ]\n",
    "# distances: [ distance1, ... ]\n",
    "def mse(x, locations, distances):\n",
    "    mse = 0.0\n",
    "    for location, distance in zip(locations, distances):\n",
    "        distance_calculated = great_circle_distance(x,  location)\n",
    "        mse += (distance_calculated - distance)**2\n",
    "    return mse / len(location)\n",
    "\n",
    "\n",
    "locations= [ (W/2,L ), (W/2,0 ), (-W/2, 0), (-W/2, L)  ]\n",
    "#initial location no ponto mais proximo(com a menor distancia)\n",
    "initial_location= locations[plane.argmin()]\n",
    "distances= plane\n",
    "    \n",
    "result = minimize(\n",
    "\tmse,                         # The error function\n",
    "\tinitial_location,            # The initial guess\n",
    "\targs=(locations, distances), # Additional parameters for mse\n",
    "\tmethod='L-BFGS-B',           # The optimisation algorithm\n",
    "\toptions={\n",
    "\t\t'ftol':1e-5,         # Tolerance\n",
    "\t\t'maxiter': 1e+7      # Maximum iterations\n",
    "\t})\n",
    "location = result.x; location"
   ]
  },
  {
   "cell_type": "markdown",
   "metadata": {},
   "source": [
    "Localização no plano da superfície usando como origem o centro e início da pista."
   ]
  },
  {
   "cell_type": "code",
   "execution_count": null,
   "metadata": {},
   "outputs": [],
   "source": [
    "location"
   ]
  }
 ],
 "metadata": {
  "kernelspec": {
   "display_name": "Python 3",
   "language": "python",
   "name": "python3"
  },
  "language_info": {
   "codemirror_mode": {
    "name": "ipython",
    "version": 3
   },
   "file_extension": ".py",
   "mimetype": "text/x-python",
   "name": "python",
   "nbconvert_exporter": "python",
   "pygments_lexer": "ipython3",
   "version": "3.7.6"
  }
 },
 "nbformat": 4,
 "nbformat_minor": 2
}
