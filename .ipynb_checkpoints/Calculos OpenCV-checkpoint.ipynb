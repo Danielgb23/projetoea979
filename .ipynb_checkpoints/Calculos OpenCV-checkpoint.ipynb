{
 "cells": [
  {
   "cell_type": "markdown",
   "metadata": {},
   "source": [
    "https://www.learnopencv.com/camera-calibration-using-opencv/\n",
    "https://www.fdxlabs.com/calculate-x-y-z-real-world-coordinates-from-a-single-camera-using-opencv/"
   ]
  },
  {
   "cell_type": "code",
   "execution_count": 28,
   "metadata": {
    "scrolled": true
   },
   "outputs": [
    {
     "data": {
      "text/plain": [
       "{'L0': [520, 323],\n",
       " 'R0': [636, 324],\n",
       " 'L1': [569, 226],\n",
       " 'R1': [591, 226],\n",
       " 'Lat': \"N47° 15.54'\",\n",
       " 'Lon': \"E11° 19.94'\",\n",
       " 'Alt': 1906,\n",
       " 'Mag': 79,\n",
       " 'Length': 2000,\n",
       " 'Width': 45,\n",
       " 'Name': 'LOWI 08'}"
      ]
     },
     "execution_count": 28,
     "metadata": {},
     "output_type": "execute_result"
    }
   ],
   "source": [
    "import json\n",
    "from PIL import Image\n",
    "#gets test data\n",
    "f = open(\"./DataSet/Simulation/LOWI/08/106.txt\", \"r\")\n",
    "data=json.loads(f.read())\n",
    "Aircraft=data['Aircraft']\n",
    "Runway=data['Runway']\n",
    "\n",
    "#gets image size\n",
    "image = PIL.Image.open(\"./DataSet/Simulation/LOWI/08/106.jpg\")\n",
    "imageSize=image.size\n",
    "\n",
    "Runway"
   ]
  },
  {
   "cell_type": "code",
   "execution_count": 29,
   "metadata": {},
   "outputs": [
    {
     "data": {
      "text/plain": [
       "{'Lat': \"N47° 15.49'\", 'Lon': \"E11° 19.50'\", 'Alt': 2053, 'Mag': 78}"
      ]
     },
     "execution_count": 29,
     "metadata": {},
     "output_type": "execute_result"
    }
   ],
   "source": [
    "L0= Runway['L0']\n",
    "R0= Runway['R0']\n",
    "L1= Runway['L1']\n",
    "R1= Runway['R1']\n",
    "imagePts=[R1,R0,L0,L1]\n",
    "Aircraft"
   ]
  },
  {
   "cell_type": "code",
   "execution_count": 30,
   "metadata": {},
   "outputs": [
    {
     "name": "stdout",
     "output_type": "stream",
     "text": [
      "pista 45 2000\n"
     ]
    }
   ],
   "source": [
    "#runway coordinates\n",
    "import numpy as np\n",
    "#dimensoes da pista\n",
    "Wid=Runway[\"Width\"]\n",
    "Len=Runway[\"Length\"]\n",
    "print(\"pista\", Wid, Len)\n",
    "#real world coordinates of the edges of the runway\n",
    "posA=[Wid,Len,0]\n",
    "posB= [Wid,0,0]\n",
    "posC= [0,0,0]\n",
    "posD= [0,Len,0]\n",
    "\n",
    "runwayPoints=[posA,posB,posC,posD]"
   ]
  },
  {
   "cell_type": "markdown",
   "metadata": {},
   "source": [
    "The calibrateCamera function from OpenCV will take as input the pixel coordinates of the edges of the the airport runway and the coordinates in the real world of one or multiple images and generate as output the callibration matrix of the camera and the vectors rvecs and tvecs for each image."
   ]
  },
  {
   "cell_type": "code",
   "execution_count": 31,
   "metadata": {},
   "outputs": [],
   "source": [
    "#calibracao com https://www.learnopencv.com/camera-calibration-using-opencv/\n",
    "import cv2\n",
    "objectsPoints=np.array([runwayPoints], dtype='float32')\n",
    "imagesPoints=np.array([imagePts],dtype='float32')\n",
    "retval, cameraMatrix, distCoeffs, rvecs, tvecs = cv2.calibrateCamera(objectsPoints, imagesPoints, imageSize, None, None)"
   ]
  },
  {
   "cell_type": "markdown",
   "metadata": {},
   "source": [
    "With the rvecs and tvecs. We can already calculate the approximate position of the camera in the world coordinates. For better precision it is necessary a proper calibration of the camera using many images which may not be always possible in our project."
   ]
  },
  {
   "cell_type": "code",
   "execution_count": 32,
   "metadata": {},
   "outputs": [],
   "source": [
    "rvecs=rvecs[0]\n",
    "tvecs=tvecs[0]"
   ]
  },
  {
   "cell_type": "code",
   "execution_count": 33,
   "metadata": {},
   "outputs": [
    {
     "data": {
      "text/plain": [
       "array([-581.71332449, -295.08110259,  183.97942099])"
      ]
     },
     "execution_count": 33,
     "metadata": {},
     "output_type": "execute_result"
    }
   ],
   "source": [
    "#rotation matrix\n",
    "R_mtx, jac = cv2.Rodrigues(rvecs)\n",
    "\n",
    "cameraPosition = -R_mtx.T * np.matrix(tvecs)\n",
    "\n",
    "np.array(cameraPosition).T[0]"
   ]
  },
  {
   "cell_type": "markdown",
   "metadata": {},
   "source": [
    "Gera valor do avião que deveria ser esperado:"
   ]
  },
  {
   "cell_type": "code",
   "execution_count": 21,
   "metadata": {},
   "outputs": [
    {
     "name": "stdout",
     "output_type": "stream",
     "text": [
      "1155.4428408333895 148.4259877253941 1688.345610364497\n",
      "aviao [-148.4259877253941, -1688.345610364497, 264]\n"
     ]
    }
   ],
   "source": [
    "import math\n",
    "def measure(lat1, lon1, lat2, lon2):  ## generally used geo measurement function\n",
    "    R = 6378.137; ## Radius of earth in KM\n",
    "    dLat = lat2 * math.pi / 180 - lat1 * math.pi / 180\n",
    "    dLon = lon2 * math.pi / 180 - lon1 * math.pi / 180\n",
    "    a = math.sin(dLat/2) * math.sin(dLat/2) + math.cos(lat1 * math.pi / 180) * math.cos(lat2 * math.pi / 180) *math.sin(dLon/2) * math.sin(dLon/2);\n",
    "    c = 2 * math.atan2(math.sqrt(a), math.sqrt(1-a))\n",
    "    d = R * c\n",
    "    return d * 1000; ## meters\n",
    "alt=(Aircraft[\"Alt\"]-Runway[\"Alt\"])\n",
    "\n",
    "\n",
    "magPista=79\n",
    "\n",
    "latr=47+15.54/60\n",
    "lonr=11+19.94/60\n",
    "\n",
    "lata=47+15.46/60\n",
    "lona=11+19.03/60\n",
    "dxy=measure(latr,lonr,lata,lona)\n",
    "dy=measure(latr,0,lata,0)\n",
    "dx=measure(0,lonr,0,lona)\n",
    "print(dxy,dy,dx)\n",
    "\n",
    "#aviao=[x, y, z]\n",
    "aviao=[-dy, -dx, alt]\n",
    "print (\"aviao\", aviao)"
   ]
  },
  {
   "cell_type": "code",
   "execution_count": null,
   "metadata": {},
   "outputs": [],
   "source": []
  }
 ],
 "metadata": {
  "kernelspec": {
   "display_name": "Python 3",
   "language": "python",
   "name": "python3"
  },
  "language_info": {
   "codemirror_mode": {
    "name": "ipython",
    "version": 3
   },
   "file_extension": ".py",
   "mimetype": "text/x-python",
   "name": "python",
   "nbconvert_exporter": "python",
   "pygments_lexer": "ipython3",
   "version": "3.7.6"
  }
 },
 "nbformat": 4,
 "nbformat_minor": 2
}
