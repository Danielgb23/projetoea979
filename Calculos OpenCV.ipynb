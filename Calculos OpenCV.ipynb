{
 "cells": [
  {
   "cell_type": "markdown",
   "metadata": {},
   "source": [
    "https://www.learnopencv.com/camera-calibration-using-opencv/\n",
    "https://www.fdxlabs.com/calculate-x-y-z-real-world-coordinates-from-a-single-camera-using-opencv/"
   ]
  },
  {
   "cell_type": "code",
   "execution_count": 4,
   "metadata": {
    "scrolled": true
   },
   "outputs": [
    {
     "data": {
      "text/plain": [
       "{'L0': [392, 271],\n",
       " 'R0': [442, 276],\n",
       " 'L1': [392, 203],\n",
       " 'R1': [410, 205],\n",
       " 'Lat': \"N47° 15.54'\",\n",
       " 'Lon': \"E11° 19.94'\",\n",
       " 'Alt': 1906,\n",
       " 'Mag': 79,\n",
       " 'Length': 2000,\n",
       " 'Width': 45,\n",
       " 'Name': 'LOWI 08'}"
      ]
     },
     "execution_count": 4,
     "metadata": {},
     "output_type": "execute_result"
    }
   ],
   "source": [
    "import json\n",
    "\n",
    "f = open(\"./DataSet/Simulation/LOWI/08/102.txt\", \"r\")\n",
    "data=json.loads(f.read())\n",
    "Aircraft=data['Aircraft']\n",
    "Runway=data['Runway']\n",
    "Runway"
   ]
  },
  {
   "cell_type": "code",
   "execution_count": 11,
   "metadata": {},
   "outputs": [
    {
     "data": {
      "text/plain": [
       "{'Lat': \"N47° 15.46'\", 'Lon': \"E11° 19.03'\", 'Alt': 2190, 'Mag': 88}"
      ]
     },
     "execution_count": 11,
     "metadata": {},
     "output_type": "execute_result"
    }
   ],
   "source": [
    "L0= Runway['L0']\n",
    "R0= Runway['R0']\n",
    "L1= Runway['L1']\n",
    "R1= Runway['R1']\n",
    "Aircraft"
   ]
  },
  {
   "cell_type": "code",
   "execution_count": 21,
   "metadata": {},
   "outputs": [
    {
     "name": "stdout",
     "output_type": "stream",
     "text": [
      "1155.4428408333895 148.4259877253941 1688.345610364497\n",
      "aviao [-148.4259877253941, -1688.345610364497, 86.58536585365854]\n"
     ]
    }
   ],
   "source": [
    "import math\n",
    "def measure(lat1, lon1, lat2, lon2):  ## generally used geo measurement function\n",
    "    R = 6378.137; ## Radius of earth in KM\n",
    "    dLat = lat2 * math.pi / 180 - lat1 * math.pi / 180\n",
    "    dLon = lon2 * math.pi / 180 - lon1 * math.pi / 180\n",
    "    a = math.sin(dLat/2) * math.sin(dLat/2) + math.cos(lat1 * math.pi / 180) * math.cos(lat2 * math.pi / 180) *math.sin(dLon/2) * math.sin(dLon/2);\n",
    "    c = 2 * math.atan2(math.sqrt(a), math.sqrt(1-a))\n",
    "    d = R * c\n",
    "    return d * 1000; ## meters\n",
    "\n",
    "magPista=79\n",
    "\n",
    "latr=47+15.54/60\n",
    "lonr=11+19.94/60\n",
    "\n",
    "lata=47+15.46/60\n",
    "lona=11+19.03/60\n",
    "dxy=measure(latr,lonr,lata,lona)\n",
    "dy=measure(latr,0,lata,0)\n",
    "dx=measure(0,lonr,0,lona)\n",
    "print(dxy,dy,dx)\n",
    "\n",
    "#aviao=[x, y, z]\n",
    "aviao=[-dy, -dx, alt]\n",
    "print (\"aviao\", aviao)"
   ]
  },
  {
   "cell_type": "code",
   "execution_count": 22,
   "metadata": {},
   "outputs": [
    {
     "name": "stdout",
     "output_type": "stream",
     "text": [
      "pista 13.719512195121952 609.7560975609756\n"
     ]
    }
   ],
   "source": [
    "import numpy as np\n",
    "## para calibracao do comprimento da lente\n",
    "#podem ser usados quaisquer dois pontos\n",
    "alt=(Aircraft[\"Alt\"]-Runway[\"Alt\"])/3.28\n",
    "\n",
    "#dimensoes da pista\n",
    "Wid=Runway[\"Width\"]/3.28\n",
    "Len=Runway[\"Length\"]/3.28\n",
    "print(\"pista\", Wid, Len)\n",
    "\n",
    "posA=[Wid,Len,0]\n",
    "posB= [Wid,0,0]\n",
    "posC= [0,0,0]\n",
    "posD= [0,Len,0]"
   ]
  },
  {
   "cell_type": "code",
   "execution_count": 16,
   "metadata": {},
   "outputs": [],
   "source": [
    "#calibracao com https://www.learnopencv.com/camera-calibration-using-opencv/\n",
    "import cv2\n",
    "objectPoints=np.array([[posA,posB,posC,posD]], dtype='float32')\n",
    "imagePoints=np.array([[R0,R1,L1,L0]],dtype='float32')\n",
    "imageSize=(1152,864)\n",
    "retval, cameraMatrix, distCoeffs, rvecs, tvecs = cv2.calibrateCamera(objectPoints, imagePoints, imageSize, None, None)"
   ]
  },
  {
   "cell_type": "code",
   "execution_count": 34,
   "metadata": {},
   "outputs": [
    {
     "name": "stdout",
     "output_type": "stream",
     "text": [
      "[[1.16406642e+03 0.00000000e+00 5.75500000e+02]\n",
      " [0.00000000e+00 7.83260392e+02 4.31500001e+02]\n",
      " [0.00000000e+00 0.00000000e+00 1.00000000e+00]] \n",
      " [[-1.2498372 ]\n",
      " [-0.2365383 ]\n",
      " [-0.02486664]] \n",
      "\n",
      " [[-140.21546816]\n",
      " [-259.48822801]\n",
      " [ 889.48293918]]\n"
     ]
    }
   ],
   "source": [
    "print (cameraMatrix,'\\n',rvecs,\"\\n\\n\", tvecs)"
   ]
  },
  {
   "cell_type": "code",
   "execution_count": 30,
   "metadata": {},
   "outputs": [
    {
     "data": {
      "text/plain": [
       "matrix([[ -4.74953323],\n",
       "        [936.21932567],\n",
       "        [-40.56147497]])"
      ]
     },
     "execution_count": 30,
     "metadata": {},
     "output_type": "execute_result"
    }
   ],
   "source": [
    "#rotation matrix\n",
    "R_mtx, jac = cv2.Rodrigues(np.array(rvecs).T)\n",
    "\n",
    "cameraPosition = -np.matrix(R_mtx).T * np.matrix(tvecs)\n",
    "\n",
    "cameraPosition"
   ]
  },
  {
   "cell_type": "code",
   "execution_count": 157,
   "metadata": {},
   "outputs": [],
   "source": [
    "s_arr=np.array([0], dtype=np.float32)\n",
    "s_describe=np.array([0,0,0,0,0,0,0,0,0,0],dtype=np.float32)\n",
    "worldPoints=objectPoints[0]\n",
    "\n",
    "#extrinsic matrix\n",
    "Rt=np.column_stack((R_mtx,tvecs[0]))\n",
    "#Projection matrix\n",
    "P_mtx=newcam_mtx.dot(Rt)\n",
    "\n",
    "\n",
    "total_points_used=len(worldPoints)\n",
    "for i in range(0,total_points_used):  \n",
    "    XYZ1=np.array([[worldPoints[i,0],worldPoints[i,1],worldPoints[i,2],1]], dtype=np.float32)\n",
    "    XYZ1=XYZ1.T\n",
    "    suv1=P_mtx.dot(XYZ1)\n",
    "    s=suv1[2,0]    \n",
    "    uv1=suv1/s\n",
    "    s_arr=np.array([s/total_points_used+s_arr[0]], dtype=np.float32)\n",
    "    s_describe[i]=s"
   ]
  },
  {
   "cell_type": "code",
   "execution_count": 150,
   "metadata": {},
   "outputs": [
    {
     "data": {
      "text/plain": [
       "array([ 52.158913, 620.7276  , 622.25385 ,  53.685177,   0.      ,\n",
       "         0.      ,   0.      ,   0.      ,   0.      ,   0.      ],\n",
       "      dtype=float32)"
      ]
     },
     "execution_count": 150,
     "metadata": {},
     "output_type": "execute_result"
    }
   ],
   "source": [
    "s_describe"
   ]
  },
  {
   "cell_type": "code",
   "execution_count": 117,
   "metadata": {},
   "outputs": [
    {
     "name": "stdout",
     "output_type": "stream",
     "text": [
      "392 271\n"
     ]
    },
    {
     "data": {
      "text/plain": [
       "array([[[2.18495586e-02]],\n",
       "\n",
       "       [[6.08254226e+02]],\n",
       "\n",
       "       [[1.86600683e-01]]])"
      ]
     },
     "execution_count": 117,
     "metadata": {},
     "output_type": "execute_result"
    }
   ],
   "source": [
    "u,v=L0\n",
    "scaling_factor=320\n",
    "newcam_mtx=cameraMatrix\n",
    "\n",
    "inverse_newcam_mtx = np.linalg.inv(newcam_mtx)\n",
    "inverse_R_mtx = np.linalg.inv(R_mtx)\n",
    "\n",
    "uv_1=np.array([[u,v,1]], dtype=np.float32)\n",
    "uv_1=uv_1.T\n",
    "suv_1=scaling_factor*uv_1\n",
    "xyz_c=inverse_newcam_mtx.dot(suv_1)\n",
    "xyz_c=xyz_c-tvecs\n",
    "XYZ=inverse_R_mtx.dot(xyz_c);XYZ"
   ]
  },
  {
   "cell_type": "code",
   "execution_count": null,
   "metadata": {},
   "outputs": [],
   "source": []
  }
 ],
 "metadata": {
  "kernelspec": {
   "display_name": "Python 3",
   "language": "python",
   "name": "python3"
  },
  "language_info": {
   "codemirror_mode": {
    "name": "ipython",
    "version": 3
   },
   "file_extension": ".py",
   "mimetype": "text/x-python",
   "name": "python",
   "nbconvert_exporter": "python",
   "pygments_lexer": "ipython3",
   "version": "3.6.10"
  }
 },
 "nbformat": 4,
 "nbformat_minor": 2
}
