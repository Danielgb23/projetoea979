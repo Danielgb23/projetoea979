{
 "cells": [
  {
   "cell_type": "markdown",
   "metadata": {},
   "source": [
    "Equação de https://apps.dtic.mil/dtic/tr/fulltext/u2/1027301.pdf para obter as coordenadas (X, Y) em 3D a partir das (x, y) em 2D com eixo Z normal a direção onde a câmera está olhando:\n",
    "\n",
    " Equação 1:\n",
    "$$ \\begin{bmatrix}\n",
    "X \\\\\n",
    "Y\n",
    "\\end{bmatrix}=\\frac{d}{f}  \\begin{bmatrix}\n",
    "x \\\\\n",
    "y\n",
    "\\end{bmatrix}$$ (1)\n",
    "\n",
    "Onde $f$ é a distância focal e d é a distância no eixo Z(normal ao plano da imagem)\n",
    "\n",
    "A distâcia no mundo real entre dois pontos  A e B é dada pela sua diferença de distância em cada coordenada X, Y e Z. A diferença em Z é $d_A -d_B$. Em X e Y usamos a equação 1\n",
    "$ \\begin{bmatrix}\n",
    "X \\\\\n",
    "Y\n",
    "\\end{bmatrix}_A - \\begin{bmatrix}\n",
    "X \\\\\n",
    "Y\n",
    "\\end{bmatrix}_B =\\frac{1}{f}\\begin{bmatrix}\n",
    "d_A x_A -d_B x_B \\\\\n",
    "d_A y_A -d_B y_B\n",
    "\\end{bmatrix}$\n",
    "\n",
    "Somando os quadrados de todas como já sabemos da distância real. Onde w, l, x e y são conhecidos e f e os 'd's são icognitas obtemos:\n",
    "$w^2 = (d_A -d_B)^2+ \\frac{1}{f^2}(d_A x_A -d_B x_B)^2 +\\frac{1}{f^2}(d_A y_A -d_B y_B)^2 $ (2)\n",
    "$l^2 = (d_C -d_B)^2 +\\frac{1}{f^2}(d_C x_C -d_B x_B)^2 +\\frac{1}{f^2}(d_C y_C -d_B y_B)^2 $ (3)\n",
    "\n",
    "Como a pista é um retângulo:\n",
    "\n",
    "$l^2 +w^2  = (d_C -d_A)^2+ \\frac{1}{f^2}(d_C x_C -d_A x_A)^2 +\\frac{1}{f^2}(d_C y_C -d_A y_A)^2 $ (4)\n",
    "\n",
    "\n",
    "simplificando (2):\n",
    "\n",
    "$w^2 = d_A^2-2d_A d_B +d_B^2+ \\frac{1}{f^2}(d_A^2 x_A^2 -2 d_A x_A d_B x_B+d_B^2 x_B^2)+ \\frac{1}{f^2}(d_A^2 y_A^2 -2 d_A y_A d_B y_B+d_B^2 y_B^2) =$\n",
    "\n",
    "$w^2= \\frac{(f^2+x_A^2+y_A^2)}{f^2}d_A^2+\\frac{(f^2+x_B^2+y_B^2)}{f^2}d_B^2 -2\\frac{(f^2 +x_A x_B+y_A y_B )}{f^2}d_A d_B$ (5)\n",
    "\n",
    "simplificando (3):\n",
    "\n",
    "$l^2 = \\frac{(f^2+x_C^2+y_C^2)}{f^2}d_C^2+\\frac{(f^2+x_B^2+y_B^2)}{f^2}d_B^2 -2\\frac{(f^2 +x_C x_B+y_C y_B )}{f^2}d_C d_B$ (6)\n",
    "\n",
    "\n",
    "simplificando (4):\n",
    "\n",
    "$l^2+w^2 = \\frac{(f^2+x_C^2+y_C^2)}{f^2}d_C^2+\\frac{(f^2+x_A^2+y_A^2)}{f^2}d_A^2 -2\\frac{(f^2 +x_C x_A+y_C y_A )}{f^2}d_A d_C$ (7)\n",
    "\n"
   ]
  },
  {
   "cell_type": "markdown",
   "metadata": {},
   "source": [
    "Nos sabemos também a altura $h$ do avião:\n",
    "\n",
    "A distâcia entre A e avião no plano da pista por exemplo pode ser expressa como $d_A^2-h^2$ que é o triângulo retângulo da distância até o ponto com a altura.\n",
    "\n",
    "F = (P x  D) / W"
   ]
  },
  {
   "cell_type": "code",
   "execution_count": null,
   "metadata": {},
   "outputs": [],
   "source": [
    "import PIL.Image\n",
    "img = PIL.Image.open('./exifex.jpg')\n",
    "exif_data = img._getexif()\n",
    "print (exif_data[37386])"
   ]
  },
  {
   "cell_type": "code",
   "execution_count": 58,
   "metadata": {},
   "outputs": [],
   "source": [
    "#comprimento do foco\n",
    "fl=20\n",
    "\n",
    "x_a=155\n",
    "x_b=156\n",
    "x_c=106\n",
    "\n",
    "y_a=200\n",
    "y_b=100\n",
    "y_c=100\n",
    "\n",
    "W=100\n",
    "L=100\n",
    "\n",
    "#calcula coeficientes numericos da equacao\n",
    "A=(fl**2+x_a**2+y_a**2)/fl**2\n",
    "B=(fl**2+x_b**2+y_b**2)/fl**2\n",
    "C=(fl**2+x_c**2+y_c**2)/fl**2\n",
    "D=(fl**2+x_a*x_b+y_a*y_b)/fl**2\n",
    "E=(fl**2++x_c*x_b+y_c*y_b)/fl**2\n",
    "R=(fl**2++x_a*x_c+y_a*y_c)/fl**2"
   ]
  },
  {
   "cell_type": "code",
   "execution_count": 155,
   "metadata": {},
   "outputs": [
    {
     "name": "stdout",
     "output_type": "stream",
     "text": [
      "[22.6594834  26.15520826 20.44278587]\n"
     ]
    }
   ],
   "source": [
    "#primeira tentativa com metodo numerico\n",
    "from scipy.optimize import broyden1\n",
    "from scipy.optimize import fsolve\n",
    "def funcao(distancias):\n",
    "    F=[0,0,0]\n",
    "    da=distancias[0]\n",
    "    db=distancias[1]\n",
    "    dc=distancias[2]\n",
    "    F[0]=A*da**2+B*db**2-2*D*da*db-W**2\n",
    "    F[1]=C*dc**2+B*db**2-2*E*dc*db-W**2\n",
    "    F[2]=A*da**2+C*dc**2-2*R*da*dc-W**2-L**2\n",
    "    return F\n",
    "sol=fsolve(funcao,[100,100,100])\n",
    "print (sol)"
   ]
  },
  {
   "cell_type": "code",
   "execution_count": 60,
   "metadata": {},
   "outputs": [],
   "source": [
    "import sympy as sym\n",
    "sym.init_printing()\n",
    "#cria simbolos para as variaveis\n",
    "da,db,dc, dd = sym.symbols('da,db,dc,dd')\n",
    "#creates symbols for the constants\n",
    "a,b,c, d,e,r = sym.symbols('a,b,c,d,e,r')\n",
    "\n",
    "xa = sym.Symbol('xa')\n",
    "xb = sym.Symbol('xb')\n",
    "xc = sym.Symbol('xc')\n",
    "xd = sym.Symbol('xd')\n",
    "\n",
    "ya = sym.Symbol('ya')\n",
    "yb = sym.Symbol('yb')\n",
    "yc = sym.Symbol('yc')\n",
    "yd = sym.Symbol('yd')\n",
    "\n",
    "w = sym.Symbol('w')\n",
    "l = sym.Symbol('l')\n",
    "foc = sym.Symbol('foc')\n",
    "\n",
    "\n",
    "#f = sym.Eq((da-db)**2+(1/foc**2)*(da*xa-db*xb)**2+(1/foc**2)*(da*ya-db*yb)**2,w**2)\n",
    "#g = sym.Eq((dc-db)**2+(1/foc**2)*(dc*xc-db*xb)**2+(1/foc**2)*(dc*yc-db*yb)**2,l**2)\n",
    "#h = sym.Eq((da-dc)**2+(1/foc**2)*(da*xa-dc*xc)**2+(1/foc**2)*(da*ya-dc*yc)**2,l**2+w**2)\n",
    "\n",
    "f = sym.Eq(a*da**2+b*db**2-2*d*da*db-w**2,0)\n",
    "g = sym.Eq(c*dc**2+b*db**2-2*e*dc*db-l**2,0)\n",
    "h = a*da**2+c*dc**2-2*r*da*dc-w**2-l**2\n",
    "\n"
   ]
  },
  {
   "cell_type": "code",
   "execution_count": 61,
   "metadata": {},
   "outputs": [
    {
     "data": {
      "image/png": "[encoded data removed]",
      "text/latex": [
       "$\\displaystyle \\frac{d db}{a} - \\frac{\\sqrt{- a b db^{2} + a w^{2} + d^{2} db^{2}}}{a}$"
      ],
      "text/plain": [
       "          ___________________________\n",
       "         ╱         2      2    2   2 \n",
       "d⋅db   ╲╱  - a⋅b⋅db  + a⋅w  + d ⋅db  \n",
       "──── - ──────────────────────────────\n",
       " a                   a               "
      ]
     },
     "execution_count": 61,
     "metadata": {},
     "output_type": "execute_result"
    }
   ],
   "source": [
    "#resolve o bascara ára as duas primeiras equacoes\n",
    "dalfa=sym.solve([f],(da))\n",
    "dcelta=sym.solve([g],(dc))\n",
    "dalfa[0][0]"
   ]
  },
  {
   "cell_type": "code",
   "execution_count": 31,
   "metadata": {},
   "outputs": [],
   "source": [
    "equ=[]\n",
    "expr=h.subs(da, dalfa[0][0])\n",
    "expr=expr.subs(dc, dcelta[0][0])\n",
    "#expr = sym.Eq(expr,0)\n",
    "equ.append(expr)\n",
    "\n",
    "expr=h.subs(da, dalfa[1][0])\n",
    "expr=expr.subs(dc, dcelta[0][0])\n",
    "#expr = sym.Eq(expr,0)\n",
    "equ.append(expr)\n",
    "\n",
    "expr=h.subs(da, dalfa[0][0])\n",
    "expr=expr.subs(dc, dcelta[1][0])\n",
    "#expr = sym.Eq(expr,0)\n",
    "equ.append(expr)\n",
    "\n",
    "expr=h.subs(da, dalfa[1][0])\n",
    "expr=expr.subs(dc, dcelta[1][0])\n",
    "#expr = sym.Eq(expr,0)\n",
    "equ.append(expr)"
   ]
  },
  {
   "cell_type": "code",
   "execution_count": 43,
   "metadata": {
    "scrolled": false
   },
   "outputs": [],
   "source": [
    "#tentativa com metodo simbolico\n",
    "#sym.solve([sym.Eq(num,0)],(db))\n",
    "#dbeta=[]\n",
    "#dbeta.append(sym.solve([equ[0]],(db)))\n",
    "#dbeta.append(sym.solve([equ[1]],(db)))\n",
    "#dbeta.append(sym.solve([equ[2]],(db)))\n",
    "#dbeta.append(sym.solve([equ[3]],(db)))\n",
    "#dbeta[0]"
   ]
  },
  {
   "cell_type": "code",
   "execution_count": 84,
   "metadata": {},
   "outputs": [
    {
     "name": "stdout",
     "output_type": "stream",
     "text": [
      "10000.0*(0.0878178610369948*x - sqrt(1 - 0.000972023282887077*x**2))**2 + 10000.0*(0.0915618631460143*x + sqrt(1 - 0.000300425217230542*x**2))**2 - 184.15*(0.691967403958091*x - 7.87957479021936*sqrt(1 - 0.000972023282887077*x**2))*(1.24496210020336*x + 13.5969502741334*sqrt(1 - 0.000300425217230542*x**2)) - 20000\n"
     ]
    }
   ],
   "source": [
    "#tentativa mista\n",
    "x=sym.Symbol('x')\n",
    "num=equ[2].subs([(a,A),(b,B),(c,C),(d,D),(e,E),(r,R),(w,W),(l,L),(db,x)])\n",
    "print(num)"
   ]
  },
  {
   "cell_type": "code",
   "execution_count": 154,
   "metadata": {},
   "outputs": [
    {
     "name": "stdout",
     "output_type": "stream",
     "text": [
      "[29.83571029]\n"
     ]
    }
   ],
   "source": [
    "from scipy.optimize import broyden2\n",
    "from scipy.optimize import fsolve\n",
    "def equation(ent):\n",
    "    subs=ent[0]\n",
    "    return num.evalf(subs={x:subs})\n",
    "    \n",
    "#equation([29.83586])\n",
    "sol=fsolve(equation,29)\n",
    "print (sol)"
   ]
  },
  {
   "cell_type": "code",
   "execution_count": null,
   "metadata": {},
   "outputs": [],
   "source": []
  },
  {
   "cell_type": "code",
   "execution_count": null,
   "metadata": {},
   "outputs": [],
   "source": []
  }
 ],
 "metadata": {
  "kernelspec": {
   "display_name": "Python 3",
   "language": "python",
   "name": "python3"
  },
  "language_info": {
   "codemirror_mode": {
    "name": "ipython",
    "version": 3
   },
   "file_extension": ".py",
   "mimetype": "text/x-python",
   "name": "python",
   "nbconvert_exporter": "python",
   "pygments_lexer": "ipython3",
   "version": "3.6.10"
  }
 },
 "nbformat": 4,
 "nbformat_minor": 2
}
