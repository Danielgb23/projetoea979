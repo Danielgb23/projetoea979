{
 "cells": [
  {
   "cell_type": "code",
   "execution_count": null,
   "metadata": {},
   "outputs": [],
   "source": [
    "import sys;\n",
    "import cv2;\n",
    "import numpy as np;\n",
    "\n",
    "#Adapted from https://stackoverflow.com/questions/39308030/how-do-i-increase-the-contrast-of-an-image-in-python-opencv\n",
    "def Contrast(Image, Brightness = 0.0, Contrast = 2.0):\n",
    "\treturn cv2.addWeighted(Image, Contrast, Image, 0.0, 127*(1.0+Brightness-Contrast));\n",
    "\n",
    "RawImage = cv2.imread('./Selected/11.jpg');\n",
    "\n",
    "# 1. Enhance contrast;\n",
    "Contrast = Contrast(RawImage, 0, 3);\n",
    "\n",
    "# 2. Blur;\n",
    "Blur = cv2.bilateralFilter(Contrast, 20, 100, 20);\n",
    "\n",
    "# 3. Canny;\n",
    "Edges = cv2.Canny(Blur, 100, 300);\n",
    "\n",
    "# 4. Dilatation:\n",
    "KernelSize = 2;\n",
    "Kernel = cv2.getStructuringElement(cv2.MORPH_ELLIPSE, (KernelSize, KernelSize));\n",
    "Dilation = cv2.dilate(Edges, Kernel, iterations = 1);\n",
    "\n",
    "Opening = cv2.morphologyEx(Dilation, cv2.MORPH_OPEN, Kernel);\n",
    "Closing = cv2.morphologyEx(Opening, cv2.MORPH_CLOSE, Kernel);\n",
    "\n",
    "# 5. Hough;\n",
    "Lines = cv2.HoughLinesP(Opening, 1, np.pi/180, threshold = 80, minLineLength = 100, maxLineGap = 5);\n",
    "\n",
    "for X in Lines:\n",
    "\tcv2.line(Blur, (X[0][0], X[0][1]), (X[0][2], X[0][3]), (255, 0, 255), 3);\n",
    "\tprint((X[0][0], X[0][1]), (X[0][2], X[0][3]));\n",
    "\n",
    "# 5. Identification;\n",
    "# 6. Modelling;\n",
    "\n",
    "cv2.imshow(\"RawImage\", RawImage);\n",
    "cv2.imshow(\"Contrast\", Contrast);\n",
    "cv2.imshow(\"Blur\", Blur);\n",
    "cv2.imshow(\"Edges\", Edges);\n",
    "cv2.imshow(\"Dilation\", Dilation);\n",
    "cv2.imshow(\"Opening\", Opening);\n",
    "cv2.imshow(\"Closing\", Closing);\n",
    "\n",
    "cv2.waitKey(0);\n",
    "cv2.destroyAllWindows();\n"
   ]
  },
  {
   "cell_type": "code",
   "execution_count": null,
   "metadata": {},
   "outputs": [],
   "source": []
  },
  {
   "cell_type": "code",
   "execution_count": null,
   "metadata": {},
   "outputs": [],
   "source": []
  }
 ],
 "metadata": {
  "kernelspec": {
   "display_name": "Python 3",
   "language": "python",
   "name": "python3"
  },
  "language_info": {
   "codemirror_mode": {
    "name": "ipython",
    "version": 3
   },
   "file_extension": ".py",
   "mimetype": "text/x-python",
   "name": "python",
   "nbconvert_exporter": "python",
   "pygments_lexer": "ipython3",
   "version": "3.7.6"
  }
 },
 "nbformat": 4,
 "nbformat_minor": 4
}
